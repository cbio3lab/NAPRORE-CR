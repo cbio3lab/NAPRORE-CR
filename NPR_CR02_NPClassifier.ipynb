{
  "nbformat": 4,
  "nbformat_minor": 0,
  "metadata": {
    "colab": {
      "provenance": []
    },
    "kernelspec": {
      "name": "python3",
      "display_name": "Python 3"
    },
    "language_info": {
      "name": "python"
    }
  },
  "cells": [
    {
      "cell_type": "markdown",
      "source": [
        "##Paquetes"
      ],
      "metadata": {
        "id": "I-_jTxzRehrx"
      }
    },
    {
      "cell_type": "code",
      "execution_count": null,
      "metadata": {
        "id": "uat0nzpaaZ7l"
      },
      "outputs": [],
      "source": [
        "#Importar los paquetes necesarios para manejar la información y utilizar la API de NPClassifier\n",
        "import pandas as pd\n",
        "import requests"
      ]
    },
    {
      "cell_type": "markdown",
      "source": [
        "##Carga del CSV"
      ],
      "metadata": {
        "id": "0IZAxb2hez5k"
      }
    },
    {
      "cell_type": "code",
      "source": [
        "df = pd.read_csv('file.csv', sep = ',') #Subir el archivo al entorno y cambiar el nombre y el separador según sea necesario\n",
        "df.head() #Revisar las primeras filas para comprobar que se cargó correctamente"
      ],
      "metadata": {
        "id": "gXmelfehezfJ"
      },
      "execution_count": null,
      "outputs": []
    },
    {
      "cell_type": "markdown",
      "source": [
        "##NPClassifier"
      ],
      "metadata": {
        "id": "wmroZzRtfMJx"
      }
    },
    {
      "cell_type": "code",
      "source": [
        "global failed_smiles\n",
        "failed_smiles = {} #Diccionario para almacenar los SMILES que no den respuesta por parte de la API\n",
        "\n",
        "def NPC_API_call(SMILES, rownum): #Solicitud a la API\n",
        "\n",
        "  url = 'https://npclassifier.gnps2.org/classify?smiles=' + SMILES  #URL para llamar a la API de NPClassifier\n",
        "\n",
        "  try:\n",
        "      NPC_API_response = requests.get(url)\n",
        "      NPC_API_response.raise_for_status() #Revisa si la solicitud resultó en un error\n",
        "      return NPC_API_response.json()\n",
        "\n",
        "  except requests.exceptions.RequestException as e: #Muestra un mensaje de error si no hay respuesta\n",
        "      print(f\"Request error: row {rownum}, {SMILES}... {e}\") #Indica la fila, el SMILES y el tipo de error\n",
        "      failed_smiles[rownum] = SMILES\n",
        "      return None"
      ],
      "metadata": {
        "id": "RTmOblqnfhRi"
      },
      "execution_count": null,
      "outputs": []
    },
    {
      "cell_type": "code",
      "source": [
        "def NPC_data_parse(df): #Toma los SMILES del df y las procesa con la función definida antes\n",
        "  failed_smiles.clear() #Limpia el diccionario de errores\n",
        "  for index, row in df.iterrows():\n",
        "      tossed_smiles = row['SMILES']  #Toma el SMILES de cada fila\n",
        "      NPC_data = NPC_API_call(tossed_smiles, index) #Lo usa como argumento para la función de la solicitud a la API\n",
        "\n",
        "      if NPC_data:\n",
        "          for i, result in enumerate(NPC_data.get('pathway_results')): #Guarda los resultados de rutas metabólicas\n",
        "              df.at[index, f'NPC_PATHWAY_{i+1}'] = result\n",
        "\n",
        "          for i, result in enumerate(NPC_data.get('superclass_results')): #Guarda los resultados de superclases\n",
        "              df.at[index, f'NPC_SUPERCLASS_{i+1}'] = result\n",
        "\n",
        "          for i, result in enumerate(NPC_data.get('class_results')): #Guarda los resultados de clases\n",
        "              df.at[index, f'NPC_CLASS_{i+1}'] = result\n",
        "\n",
        "          df.at[index, 'NPC_IS_GLYCOSIDE'] = NPC_data.get('isglycoside') #Guarda el booleano sobre si el compuesto es un glucósido"
      ],
      "metadata": {
        "id": "ZVM_tvClhiXm"
      },
      "execution_count": null,
      "outputs": []
    },
    {
      "cell_type": "code",
      "source": [
        "#Corre la función por el df\n",
        "NPC_data_parse(df)"
      ],
      "metadata": {
        "id": "b6qWWu5WiSw7"
      },
      "execution_count": null,
      "outputs": []
    },
    {
      "cell_type": "code",
      "source": [
        "def reorder_columns(df): #Para acomodar las columnas en el orden correcto. Facilita la entrada manual\n",
        "    pathway_cols = [col for col in df.columns if col.startswith('NPC_PATHWAY_')] #Guarda los nombres de columnas que corresponden a rutas\n",
        "    superclass_cols = [col for col in df.columns if col.startswith('NPC_SUPERCLASS_')] #Guarda los nombres de columnas que corresponden a superclases\n",
        "    class_cols = [col for col in df.columns if col.startswith('NPC_CLASS_')] #Guarda los nombres de columnas que corresponden a clases\n",
        "\n",
        "    #Obtienen el número asignado a cada columna y las ordena según este\n",
        "    pathway_cols_sorted = sorted(pathway_cols, key=lambda x: int(x.split('_')[-1]))\n",
        "    superclass_cols_sorted = sorted(superclass_cols, key=lambda x: int(x.split('_')[-1]))\n",
        "    class_cols_sorted = sorted(class_cols, key=lambda x: int(x.split('_')[-1]))\n",
        "\n",
        "    other_cols = [col for col in df.columns if col not in pathway_cols and col not in superclass_cols and col not in class_cols] #Todas las demás columnas\n",
        "\n",
        "    new_column_order = other_cols + pathway_cols_sorted + superclass_cols_sorted + class_cols_sorted #Coloca primero todas las otras columnas, luego las de rutas, luego superclases y por último clases\n",
        "\n",
        "    return df[new_column_order]\n",
        "\n",
        "df = reorder_columns(df)"
      ],
      "metadata": {
        "id": "uViQw4DOn1BR"
      },
      "execution_count": null,
      "outputs": []
    },
    {
      "cell_type": "code",
      "source": [
        "def NPC_manual_entry(): #Para los SMILES que no dan respuesta\n",
        "  classification_results = [] #Crea una lista para guardar las columnas con información de NPClassifier. Dependiendo del set puede tener diferentes cantidades de columnas de rutas, superclases y clases\n",
        "  for col in df.columns:\n",
        "    if col.startswith('NPC'):\n",
        "      classification_results.append(col)\n",
        "  classification_results.remove('NPC_IS_GLYCOSIDE') #Elimina la columna de si es glucósido\n",
        "\n",
        "  for i in failed_smiles.keys():\n",
        "    print(f'Row {i}\\nSMILES:\\n{failed_smiles[i]}') #Imprime la fila y el SMILES para copiarlo y pegarlo en NPClassifier\n",
        "    for colname in classification_results:\n",
        "      classification_inputs = input(f'{colname} (Enter to leave as None): ').strip() or None #Pide ingresar manualmente la información\n",
        "      df.at[i, colname] = classification_inputs #La guarda en la columna respectiva\n",
        "\n",
        "    glycoside_check = input(\"Is glycoside? (1 = True, 0 = False): \").strip() #Pide la información sobre glicósidos\n",
        "    if glycoside_check == '1':\n",
        "      glycoside_check = True\n",
        "    elif glycoside_check == '0':\n",
        "      glycoside_check = False\n",
        "    else:\n",
        "      raise ValueError(\"Invalid input. Please enter either '1' or '0'.\") #Revisa que el valor digitado sea un '0' (no) o un '1' (sí)\n",
        "    df.at[i, 'NPC_IS_GLYCOSIDE'] = glycoside_check\n",
        "    print(df.iloc[i]) #Muestra la información actualizada"
      ],
      "metadata": {
        "id": "8yuGbEOdiqap"
      },
      "execution_count": null,
      "outputs": []
    },
    {
      "cell_type": "code",
      "source": [
        "NPC_manual_entry() #Corre la función de entrada manual"
      ],
      "metadata": {
        "id": "E67TnuY7j0EN"
      },
      "execution_count": null,
      "outputs": []
    }
  ]
}